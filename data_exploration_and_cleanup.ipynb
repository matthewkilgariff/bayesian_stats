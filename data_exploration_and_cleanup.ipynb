{
 "cells": [
  {
   "cell_type": "code",
   "execution_count": 1,
   "metadata": {},
   "outputs": [],
   "source": [
    "import pandas as pd\n",
    "import numpy as np"
   ]
  },
  {
   "cell_type": "code",
   "execution_count": 2,
   "metadata": {},
   "outputs": [
    {
     "name": "stderr",
     "output_type": "stream",
     "text": [
      "/var/folders/vq/432cnvbx5wn1vdmt5b1chfg80000gn/T/ipykernel_25933/357345569.py:1: DtypeWarning: Columns (47) have mixed types. Specify dtype option on import or set low_memory=False.\n",
      "  df = pd.read_csv(\"nfl.csv\")\n"
     ]
    },
    {
     "data": {
      "text/plain": [
       "49"
      ]
     },
     "execution_count": 2,
     "metadata": {},
     "output_type": "execute_result"
    }
   ],
   "source": [
    "df = pd.read_csv(\"nfl.csv\")\n",
    "len(df.columns.to_list())"
   ]
  },
  {
   "cell_type": "code",
   "execution_count": 3,
   "metadata": {},
   "outputs": [
    {
     "data": {
      "text/plain": [
       "['GameId',\n",
       " 'PlayId',\n",
       " 'Team',\n",
       " 'X',\n",
       " 'Y',\n",
       " 'S',\n",
       " 'A',\n",
       " 'Dis',\n",
       " 'Orientation',\n",
       " 'Dir',\n",
       " 'NflId',\n",
       " 'DisplayName',\n",
       " 'JerseyNumber',\n",
       " 'Season',\n",
       " 'YardLine',\n",
       " 'Quarter',\n",
       " 'GameClock',\n",
       " 'PossessionTeam',\n",
       " 'Down',\n",
       " 'Distance',\n",
       " 'FieldPosition',\n",
       " 'HomeScoreBeforePlay',\n",
       " 'VisitorScoreBeforePlay',\n",
       " 'NflIdRusher',\n",
       " 'OffenseFormation',\n",
       " 'OffensePersonnel',\n",
       " 'DefendersInTheBox',\n",
       " 'DefensePersonnel',\n",
       " 'PlayDirection',\n",
       " 'TimeHandoff',\n",
       " 'TimeSnap',\n",
       " 'Yards',\n",
       " 'PlayerHeight',\n",
       " 'PlayerWeight',\n",
       " 'PlayerBirthDate',\n",
       " 'PlayerCollegeName',\n",
       " 'Position',\n",
       " 'HomeTeamAbbr',\n",
       " 'VisitorTeamAbbr',\n",
       " 'Week',\n",
       " 'Stadium',\n",
       " 'Location',\n",
       " 'StadiumType',\n",
       " 'Turf',\n",
       " 'GameWeather',\n",
       " 'Temperature',\n",
       " 'Humidity',\n",
       " 'WindSpeed',\n",
       " 'WindDirection']"
      ]
     },
     "execution_count": 3,
     "metadata": {},
     "output_type": "execute_result"
    }
   ],
   "source": [
    "df.columns.to_list()"
   ]
  },
  {
   "cell_type": "code",
   "execution_count": 4,
   "metadata": {},
   "outputs": [],
   "source": [
    "df = df[df[\"NflIdRusher\"] == df[\"NflId\"]]"
   ]
  },
  {
   "cell_type": "code",
   "execution_count": 5,
   "metadata": {},
   "outputs": [
    {
     "data": {
      "text/plain": [
       "GameId                      688\n",
       "PlayId                    31007\n",
       "Team                          2\n",
       "X                          9460\n",
       "Y                          1744\n",
       "S                           803\n",
       "A                           677\n",
       "Dis                          93\n",
       "Orientation               20477\n",
       "Dir                       20220\n",
       "NflId                       443\n",
       "DisplayName                 445\n",
       "JerseyNumber                 61\n",
       "Season                        3\n",
       "YardLine                     50\n",
       "Quarter                       5\n",
       "GameClock                   901\n",
       "PossessionTeam               32\n",
       "Down                          4\n",
       "Distance                     35\n",
       "FieldPosition                32\n",
       "HomeScoreBeforePlay          50\n",
       "VisitorScoreBeforePlay       50\n",
       "NflIdRusher                 443\n",
       "OffenseFormation              8\n",
       "OffensePersonnel             61\n",
       "DefendersInTheBox            10\n",
       "DefensePersonnel             45\n",
       "PlayDirection                 2\n",
       "TimeHandoff               30709\n",
       "TimeSnap                  30721\n",
       "Yards                       102\n",
       "PlayerHeight                 13\n",
       "PlayerWeight                 93\n",
       "PlayerBirthDate             423\n",
       "PlayerCollegeName           157\n",
       "Position                     10\n",
       "HomeTeamAbbr                 32\n",
       "VisitorTeamAbbr              32\n",
       "Week                         17\n",
       "Stadium                      61\n",
       "Location                     67\n",
       "StadiumType                  33\n",
       "Turf                         23\n",
       "GameWeather                  73\n",
       "Temperature                  79\n",
       "Humidity                     91\n",
       "WindSpeed                    69\n",
       "WindDirection                58\n",
       "dtype: int64"
      ]
     },
     "execution_count": 5,
     "metadata": {},
     "output_type": "execute_result"
    }
   ],
   "source": [
    "df.nunique()"
   ]
  },
  {
   "cell_type": "code",
   "execution_count": 6,
   "metadata": {},
   "outputs": [
    {
     "data": {
      "text/plain": [
       "Index(['GameId', 'PlayId', 'Team', 'X', 'Y', 'S', 'A', 'Dis', 'Orientation',\n",
       "       'Dir', 'NflId', 'DisplayName', 'JerseyNumber', 'Season', 'YardLine',\n",
       "       'Quarter', 'GameClock', 'PossessionTeam', 'Down', 'Distance',\n",
       "       'FieldPosition', 'HomeScoreBeforePlay', 'VisitorScoreBeforePlay',\n",
       "       'NflIdRusher', 'OffenseFormation', 'OffensePersonnel',\n",
       "       'DefendersInTheBox', 'DefensePersonnel', 'PlayDirection', 'TimeHandoff',\n",
       "       'TimeSnap', 'Yards', 'PlayerHeight', 'PlayerWeight', 'PlayerBirthDate',\n",
       "       'PlayerCollegeName', 'Position', 'HomeTeamAbbr', 'VisitorTeamAbbr',\n",
       "       'Week', 'Stadium', 'Location', 'StadiumType', 'Turf', 'GameWeather',\n",
       "       'Temperature', 'Humidity', 'WindSpeed', 'WindDirection'],\n",
       "      dtype='object')"
      ]
     },
     "execution_count": 6,
     "metadata": {},
     "output_type": "execute_result"
    }
   ],
   "source": [
    "df.columns"
   ]
  },
  {
   "cell_type": "code",
   "execution_count": 7,
   "metadata": {},
   "outputs": [],
   "source": [
    "df.drop(columns=[\"GameId\", \"PlayId\", \"JerseyNumber\",\"Season\", \"TimeHandoff\", \"TimeSnap\",\"PlayerCollegeName\",\"Stadium\",\"Location\",\"GameWeather\"], inplace=True)"
   ]
  },
  {
   "cell_type": "code",
   "execution_count": 8,
   "metadata": {},
   "outputs": [
    {
     "data": {
      "text/html": [
       "<div>\n",
       "<style scoped>\n",
       "    .dataframe tbody tr th:only-of-type {\n",
       "        vertical-align: middle;\n",
       "    }\n",
       "\n",
       "    .dataframe tbody tr th {\n",
       "        vertical-align: top;\n",
       "    }\n",
       "\n",
       "    .dataframe thead th {\n",
       "        text-align: right;\n",
       "    }\n",
       "</style>\n",
       "<table border=\"1\" class=\"dataframe\">\n",
       "  <thead>\n",
       "    <tr style=\"text-align: right;\">\n",
       "      <th></th>\n",
       "      <th>Team</th>\n",
       "      <th>X</th>\n",
       "      <th>Y</th>\n",
       "      <th>S</th>\n",
       "      <th>A</th>\n",
       "      <th>Dis</th>\n",
       "      <th>Orientation</th>\n",
       "      <th>Dir</th>\n",
       "      <th>NflId</th>\n",
       "      <th>DisplayName</th>\n",
       "      <th>...</th>\n",
       "      <th>Position</th>\n",
       "      <th>HomeTeamAbbr</th>\n",
       "      <th>VisitorTeamAbbr</th>\n",
       "      <th>Week</th>\n",
       "      <th>StadiumType</th>\n",
       "      <th>Turf</th>\n",
       "      <th>Temperature</th>\n",
       "      <th>Humidity</th>\n",
       "      <th>WindSpeed</th>\n",
       "      <th>WindDirection</th>\n",
       "    </tr>\n",
       "  </thead>\n",
       "  <tbody>\n",
       "    <tr>\n",
       "      <th>18</th>\n",
       "      <td>home</td>\n",
       "      <td>78.75</td>\n",
       "      <td>30.53</td>\n",
       "      <td>3.63</td>\n",
       "      <td>3.35</td>\n",
       "      <td>0.38</td>\n",
       "      <td>161.98</td>\n",
       "      <td>245.74</td>\n",
       "      <td>2543773</td>\n",
       "      <td>James White</td>\n",
       "      <td>...</td>\n",
       "      <td>RB</td>\n",
       "      <td>NE</td>\n",
       "      <td>KC</td>\n",
       "      <td>1</td>\n",
       "      <td>Outdoor</td>\n",
       "      <td>Field Turf</td>\n",
       "      <td>63.0</td>\n",
       "      <td>77.0</td>\n",
       "      <td>8.0</td>\n",
       "      <td>SW</td>\n",
       "    </tr>\n",
       "    <tr>\n",
       "      <th>40</th>\n",
       "      <td>home</td>\n",
       "      <td>71.07</td>\n",
       "      <td>27.16</td>\n",
       "      <td>3.06</td>\n",
       "      <td>2.41</td>\n",
       "      <td>0.34</td>\n",
       "      <td>210.70</td>\n",
       "      <td>312.20</td>\n",
       "      <td>2543773</td>\n",
       "      <td>James White</td>\n",
       "      <td>...</td>\n",
       "      <td>RB</td>\n",
       "      <td>NE</td>\n",
       "      <td>KC</td>\n",
       "      <td>1</td>\n",
       "      <td>Outdoor</td>\n",
       "      <td>Field Turf</td>\n",
       "      <td>63.0</td>\n",
       "      <td>77.0</td>\n",
       "      <td>8.0</td>\n",
       "      <td>SW</td>\n",
       "    </tr>\n",
       "    <tr>\n",
       "      <th>62</th>\n",
       "      <td>home</td>\n",
       "      <td>48.66</td>\n",
       "      <td>19.11</td>\n",
       "      <td>5.77</td>\n",
       "      <td>2.42</td>\n",
       "      <td>0.60</td>\n",
       "      <td>140.82</td>\n",
       "      <td>221.96</td>\n",
       "      <td>2543773</td>\n",
       "      <td>James White</td>\n",
       "      <td>...</td>\n",
       "      <td>RB</td>\n",
       "      <td>NE</td>\n",
       "      <td>KC</td>\n",
       "      <td>1</td>\n",
       "      <td>Outdoor</td>\n",
       "      <td>Field Turf</td>\n",
       "      <td>63.0</td>\n",
       "      <td>77.0</td>\n",
       "      <td>8.0</td>\n",
       "      <td>SW</td>\n",
       "    </tr>\n",
       "    <tr>\n",
       "      <th>84</th>\n",
       "      <td>home</td>\n",
       "      <td>15.53</td>\n",
       "      <td>25.36</td>\n",
       "      <td>4.45</td>\n",
       "      <td>3.20</td>\n",
       "      <td>0.46</td>\n",
       "      <td>186.22</td>\n",
       "      <td>275.44</td>\n",
       "      <td>2539663</td>\n",
       "      <td>Mike Gillislee</td>\n",
       "      <td>...</td>\n",
       "      <td>RB</td>\n",
       "      <td>NE</td>\n",
       "      <td>KC</td>\n",
       "      <td>1</td>\n",
       "      <td>Outdoor</td>\n",
       "      <td>Field Turf</td>\n",
       "      <td>63.0</td>\n",
       "      <td>77.0</td>\n",
       "      <td>8.0</td>\n",
       "      <td>SW</td>\n",
       "    </tr>\n",
       "    <tr>\n",
       "      <th>98</th>\n",
       "      <td>away</td>\n",
       "      <td>29.99</td>\n",
       "      <td>27.12</td>\n",
       "      <td>3.90</td>\n",
       "      <td>2.53</td>\n",
       "      <td>0.44</td>\n",
       "      <td>34.27</td>\n",
       "      <td>157.92</td>\n",
       "      <td>2557917</td>\n",
       "      <td>Kareem Hunt</td>\n",
       "      <td>...</td>\n",
       "      <td>RB</td>\n",
       "      <td>NE</td>\n",
       "      <td>KC</td>\n",
       "      <td>1</td>\n",
       "      <td>Outdoor</td>\n",
       "      <td>Field Turf</td>\n",
       "      <td>63.0</td>\n",
       "      <td>77.0</td>\n",
       "      <td>8.0</td>\n",
       "      <td>SW</td>\n",
       "    </tr>\n",
       "    <tr>\n",
       "      <th>...</th>\n",
       "      <td>...</td>\n",
       "      <td>...</td>\n",
       "      <td>...</td>\n",
       "      <td>...</td>\n",
       "      <td>...</td>\n",
       "      <td>...</td>\n",
       "      <td>...</td>\n",
       "      <td>...</td>\n",
       "      <td>...</td>\n",
       "      <td>...</td>\n",
       "      <td>...</td>\n",
       "      <td>...</td>\n",
       "      <td>...</td>\n",
       "      <td>...</td>\n",
       "      <td>...</td>\n",
       "      <td>...</td>\n",
       "      <td>...</td>\n",
       "      <td>...</td>\n",
       "      <td>...</td>\n",
       "      <td>...</td>\n",
       "      <td>...</td>\n",
       "    </tr>\n",
       "    <tr>\n",
       "      <th>682052</th>\n",
       "      <td>away</td>\n",
       "      <td>68.95</td>\n",
       "      <td>28.28</td>\n",
       "      <td>4.26</td>\n",
       "      <td>2.54</td>\n",
       "      <td>0.42</td>\n",
       "      <td>243.61</td>\n",
       "      <td>255.90</td>\n",
       "      <td>2562407</td>\n",
       "      <td>Justice Hill</td>\n",
       "      <td>...</td>\n",
       "      <td>RB</td>\n",
       "      <td>LA</td>\n",
       "      <td>BAL</td>\n",
       "      <td>12</td>\n",
       "      <td>Outdoor</td>\n",
       "      <td>Grass</td>\n",
       "      <td>62.0</td>\n",
       "      <td>64.0</td>\n",
       "      <td>5</td>\n",
       "      <td>WSW</td>\n",
       "    </tr>\n",
       "    <tr>\n",
       "      <th>682074</th>\n",
       "      <td>away</td>\n",
       "      <td>69.11</td>\n",
       "      <td>26.19</td>\n",
       "      <td>4.49</td>\n",
       "      <td>3.14</td>\n",
       "      <td>0.43</td>\n",
       "      <td>249.98</td>\n",
       "      <td>263.67</td>\n",
       "      <td>2562407</td>\n",
       "      <td>Justice Hill</td>\n",
       "      <td>...</td>\n",
       "      <td>RB</td>\n",
       "      <td>LA</td>\n",
       "      <td>BAL</td>\n",
       "      <td>12</td>\n",
       "      <td>Outdoor</td>\n",
       "      <td>Grass</td>\n",
       "      <td>62.0</td>\n",
       "      <td>64.0</td>\n",
       "      <td>5</td>\n",
       "      <td>WSW</td>\n",
       "    </tr>\n",
       "    <tr>\n",
       "      <th>682096</th>\n",
       "      <td>away</td>\n",
       "      <td>27.44</td>\n",
       "      <td>24.46</td>\n",
       "      <td>4.42</td>\n",
       "      <td>1.54</td>\n",
       "      <td>0.43</td>\n",
       "      <td>263.76</td>\n",
       "      <td>284.49</td>\n",
       "      <td>2561324</td>\n",
       "      <td>Gus Edwards</td>\n",
       "      <td>...</td>\n",
       "      <td>RB</td>\n",
       "      <td>LA</td>\n",
       "      <td>BAL</td>\n",
       "      <td>12</td>\n",
       "      <td>Outdoor</td>\n",
       "      <td>Grass</td>\n",
       "      <td>62.0</td>\n",
       "      <td>64.0</td>\n",
       "      <td>5</td>\n",
       "      <td>WSW</td>\n",
       "    </tr>\n",
       "    <tr>\n",
       "      <th>682118</th>\n",
       "      <td>away</td>\n",
       "      <td>78.46</td>\n",
       "      <td>28.40</td>\n",
       "      <td>4.80</td>\n",
       "      <td>3.26</td>\n",
       "      <td>0.47</td>\n",
       "      <td>274.83</td>\n",
       "      <td>262.25</td>\n",
       "      <td>2562407</td>\n",
       "      <td>Justice Hill</td>\n",
       "      <td>...</td>\n",
       "      <td>RB</td>\n",
       "      <td>LA</td>\n",
       "      <td>BAL</td>\n",
       "      <td>12</td>\n",
       "      <td>Outdoor</td>\n",
       "      <td>Grass</td>\n",
       "      <td>62.0</td>\n",
       "      <td>64.0</td>\n",
       "      <td>5</td>\n",
       "      <td>WSW</td>\n",
       "    </tr>\n",
       "    <tr>\n",
       "      <th>682140</th>\n",
       "      <td>away</td>\n",
       "      <td>76.54</td>\n",
       "      <td>27.24</td>\n",
       "      <td>5.34</td>\n",
       "      <td>2.38</td>\n",
       "      <td>0.52</td>\n",
       "      <td>284.06</td>\n",
       "      <td>288.95</td>\n",
       "      <td>2562407</td>\n",
       "      <td>Justice Hill</td>\n",
       "      <td>...</td>\n",
       "      <td>RB</td>\n",
       "      <td>LA</td>\n",
       "      <td>BAL</td>\n",
       "      <td>12</td>\n",
       "      <td>Outdoor</td>\n",
       "      <td>Grass</td>\n",
       "      <td>62.0</td>\n",
       "      <td>64.0</td>\n",
       "      <td>5</td>\n",
       "      <td>WSW</td>\n",
       "    </tr>\n",
       "  </tbody>\n",
       "</table>\n",
       "<p>31007 rows × 39 columns</p>\n",
       "</div>"
      ],
      "text/plain": [
       "        Team      X      Y     S     A   Dis  Orientation     Dir    NflId  \\\n",
       "18      home  78.75  30.53  3.63  3.35  0.38       161.98  245.74  2543773   \n",
       "40      home  71.07  27.16  3.06  2.41  0.34       210.70  312.20  2543773   \n",
       "62      home  48.66  19.11  5.77  2.42  0.60       140.82  221.96  2543773   \n",
       "84      home  15.53  25.36  4.45  3.20  0.46       186.22  275.44  2539663   \n",
       "98      away  29.99  27.12  3.90  2.53  0.44        34.27  157.92  2557917   \n",
       "...      ...    ...    ...   ...   ...   ...          ...     ...      ...   \n",
       "682052  away  68.95  28.28  4.26  2.54  0.42       243.61  255.90  2562407   \n",
       "682074  away  69.11  26.19  4.49  3.14  0.43       249.98  263.67  2562407   \n",
       "682096  away  27.44  24.46  4.42  1.54  0.43       263.76  284.49  2561324   \n",
       "682118  away  78.46  28.40  4.80  3.26  0.47       274.83  262.25  2562407   \n",
       "682140  away  76.54  27.24  5.34  2.38  0.52       284.06  288.95  2562407   \n",
       "\n",
       "           DisplayName  ...  Position  HomeTeamAbbr VisitorTeamAbbr Week  \\\n",
       "18         James White  ...        RB            NE              KC    1   \n",
       "40         James White  ...        RB            NE              KC    1   \n",
       "62         James White  ...        RB            NE              KC    1   \n",
       "84      Mike Gillislee  ...        RB            NE              KC    1   \n",
       "98         Kareem Hunt  ...        RB            NE              KC    1   \n",
       "...                ...  ...       ...           ...             ...  ...   \n",
       "682052    Justice Hill  ...        RB            LA             BAL   12   \n",
       "682074    Justice Hill  ...        RB            LA             BAL   12   \n",
       "682096     Gus Edwards  ...        RB            LA             BAL   12   \n",
       "682118    Justice Hill  ...        RB            LA             BAL   12   \n",
       "682140    Justice Hill  ...        RB            LA             BAL   12   \n",
       "\n",
       "        StadiumType        Turf Temperature  Humidity  WindSpeed  \\\n",
       "18          Outdoor  Field Turf        63.0      77.0        8.0   \n",
       "40          Outdoor  Field Turf        63.0      77.0        8.0   \n",
       "62          Outdoor  Field Turf        63.0      77.0        8.0   \n",
       "84          Outdoor  Field Turf        63.0      77.0        8.0   \n",
       "98          Outdoor  Field Turf        63.0      77.0        8.0   \n",
       "...             ...         ...         ...       ...        ...   \n",
       "682052      Outdoor       Grass        62.0      64.0          5   \n",
       "682074      Outdoor       Grass        62.0      64.0          5   \n",
       "682096      Outdoor       Grass        62.0      64.0          5   \n",
       "682118      Outdoor       Grass        62.0      64.0          5   \n",
       "682140      Outdoor       Grass        62.0      64.0          5   \n",
       "\n",
       "        WindDirection  \n",
       "18                 SW  \n",
       "40                 SW  \n",
       "62                 SW  \n",
       "84                 SW  \n",
       "98                 SW  \n",
       "...               ...  \n",
       "682052            WSW  \n",
       "682074            WSW  \n",
       "682096            WSW  \n",
       "682118            WSW  \n",
       "682140            WSW  \n",
       "\n",
       "[31007 rows x 39 columns]"
      ]
     },
     "execution_count": 8,
     "metadata": {},
     "output_type": "execute_result"
    }
   ],
   "source": [
    "df"
   ]
  },
  {
   "cell_type": "code",
   "execution_count": 9,
   "metadata": {},
   "outputs": [
    {
     "data": {
      "text/plain": [
       "RB    28886\n",
       "HB      923\n",
       "WR      828\n",
       "FB      209\n",
       "QB       99\n",
       "TE       48\n",
       "CB       10\n",
       "DT        2\n",
       "DE        1\n",
       "G         1\n",
       "Name: Position, dtype: int64"
      ]
     },
     "execution_count": 9,
     "metadata": {},
     "output_type": "execute_result"
    }
   ],
   "source": [
    "# df[\"Position\"].unique()\n",
    "df[\"Position\"].value_counts()"
   ]
  },
  {
   "cell_type": "code",
   "execution_count": 10,
   "metadata": {},
   "outputs": [
    {
     "data": {
      "text/plain": [
       "'5-10'"
      ]
     },
     "execution_count": 10,
     "metadata": {},
     "output_type": "execute_result"
    }
   ],
   "source": [
    "df[\"PlayerHeight\"].iloc[1]"
   ]
  },
  {
   "cell_type": "code",
   "execution_count": 11,
   "metadata": {},
   "outputs": [
    {
     "data": {
      "image/png": "[encoded data removed]",
      "text/plain": [
       "<Figure size 432x288 with 1 Axes>"
      ]
     },
     "metadata": {
      "needs_background": "light"
     },
     "output_type": "display_data"
    }
   ],
   "source": [
    "import matplotlib.pyplot as plt\n",
    "%matplotlib inline \n",
    "\n",
    "plt.hist(df[\"Yards\"], bins=[-15,-10,-5,0,5,10,15,20,30,50,100])\n",
    "plt.show()"
   ]
  },
  {
   "cell_type": "code",
   "execution_count": 12,
   "metadata": {},
   "outputs": [],
   "source": [
    "df[\"PlayerHeight\"] = df[\"PlayerHeight\"].apply(lambda x: int(x.split('-')[0]) * 12 + int(x.split('-')[1]))"
   ]
  },
  {
   "cell_type": "code",
   "execution_count": 13,
   "metadata": {},
   "outputs": [
    {
     "data": {
      "text/plain": [
       "<matplotlib.collections.PathCollection at 0x15afb3a90>"
      ]
     },
     "execution_count": 13,
     "metadata": {},
     "output_type": "execute_result"
    },
    {
     "data": {
      "image/png": "[encoded data removed]",
      "text/plain": [
       "<Figure size 432x288 with 1 Axes>"
      ]
     },
     "metadata": {
      "needs_background": "light"
     },
     "output_type": "display_data"
    }
   ],
   "source": [
    "plt.scatter(df[\"PlayerHeight\"], df[\"PlayerWeight\"])"
   ]
  },
  {
   "cell_type": "code",
   "execution_count": 14,
   "metadata": {},
   "outputs": [],
   "source": [
    "df_important = df[[\"PlayerHeight\", \"PlayerWeight\",\"Yards\",\"Down\",\"YardLine\",\"Distance\",\"Week\",\"Temperature\",\"Humidity\",\"HomeScoreBeforePlay\",\"VisitorScoreBeforePlay\", \"Position\"]]"
   ]
  },
  {
   "cell_type": "code",
   "execution_count": 15,
   "metadata": {},
   "outputs": [
    {
     "data": {
      "text/html": [
       "<div>\n",
       "<style scoped>\n",
       "    .dataframe tbody tr th:only-of-type {\n",
       "        vertical-align: middle;\n",
       "    }\n",
       "\n",
       "    .dataframe tbody tr th {\n",
       "        vertical-align: top;\n",
       "    }\n",
       "\n",
       "    .dataframe thead th {\n",
       "        text-align: right;\n",
       "    }\n",
       "</style>\n",
       "<table border=\"1\" class=\"dataframe\">\n",
       "  <thead>\n",
       "    <tr style=\"text-align: right;\">\n",
       "      <th></th>\n",
       "      <th>PlayerHeight</th>\n",
       "      <th>PlayerWeight</th>\n",
       "      <th>Yards</th>\n",
       "      <th>Down</th>\n",
       "      <th>YardLine</th>\n",
       "      <th>Distance</th>\n",
       "      <th>Week</th>\n",
       "      <th>Temperature</th>\n",
       "      <th>Humidity</th>\n",
       "      <th>HomeScoreBeforePlay</th>\n",
       "      <th>VisitorScoreBeforePlay</th>\n",
       "      <th>Position</th>\n",
       "    </tr>\n",
       "  </thead>\n",
       "  <tbody>\n",
       "    <tr>\n",
       "      <th>18</th>\n",
       "      <td>70</td>\n",
       "      <td>205</td>\n",
       "      <td>8</td>\n",
       "      <td>3</td>\n",
       "      <td>35</td>\n",
       "      <td>2</td>\n",
       "      <td>1</td>\n",
       "      <td>63.0</td>\n",
       "      <td>77.0</td>\n",
       "      <td>0</td>\n",
       "      <td>0</td>\n",
       "      <td>RB</td>\n",
       "    </tr>\n",
       "    <tr>\n",
       "      <th>40</th>\n",
       "      <td>70</td>\n",
       "      <td>205</td>\n",
       "      <td>3</td>\n",
       "      <td>1</td>\n",
       "      <td>43</td>\n",
       "      <td>10</td>\n",
       "      <td>1</td>\n",
       "      <td>63.0</td>\n",
       "      <td>77.0</td>\n",
       "      <td>0</td>\n",
       "      <td>0</td>\n",
       "      <td>RB</td>\n",
       "    </tr>\n",
       "    <tr>\n",
       "      <th>62</th>\n",
       "      <td>70</td>\n",
       "      <td>205</td>\n",
       "      <td>5</td>\n",
       "      <td>1</td>\n",
       "      <td>35</td>\n",
       "      <td>10</td>\n",
       "      <td>1</td>\n",
       "      <td>63.0</td>\n",
       "      <td>77.0</td>\n",
       "      <td>0</td>\n",
       "      <td>0</td>\n",
       "      <td>RB</td>\n",
       "    </tr>\n",
       "    <tr>\n",
       "      <th>84</th>\n",
       "      <td>71</td>\n",
       "      <td>210</td>\n",
       "      <td>2</td>\n",
       "      <td>2</td>\n",
       "      <td>2</td>\n",
       "      <td>2</td>\n",
       "      <td>1</td>\n",
       "      <td>63.0</td>\n",
       "      <td>77.0</td>\n",
       "      <td>0</td>\n",
       "      <td>0</td>\n",
       "      <td>RB</td>\n",
       "    </tr>\n",
       "    <tr>\n",
       "      <th>98</th>\n",
       "      <td>71</td>\n",
       "      <td>216</td>\n",
       "      <td>7</td>\n",
       "      <td>1</td>\n",
       "      <td>25</td>\n",
       "      <td>10</td>\n",
       "      <td>1</td>\n",
       "      <td>63.0</td>\n",
       "      <td>77.0</td>\n",
       "      <td>7</td>\n",
       "      <td>0</td>\n",
       "      <td>RB</td>\n",
       "    </tr>\n",
       "    <tr>\n",
       "      <th>...</th>\n",
       "      <td>...</td>\n",
       "      <td>...</td>\n",
       "      <td>...</td>\n",
       "      <td>...</td>\n",
       "      <td>...</td>\n",
       "      <td>...</td>\n",
       "      <td>...</td>\n",
       "      <td>...</td>\n",
       "      <td>...</td>\n",
       "      <td>...</td>\n",
       "      <td>...</td>\n",
       "      <td>...</td>\n",
       "    </tr>\n",
       "    <tr>\n",
       "      <th>682052</th>\n",
       "      <td>70</td>\n",
       "      <td>200</td>\n",
       "      <td>1</td>\n",
       "      <td>1</td>\n",
       "      <td>46</td>\n",
       "      <td>10</td>\n",
       "      <td>12</td>\n",
       "      <td>62.0</td>\n",
       "      <td>64.0</td>\n",
       "      <td>6</td>\n",
       "      <td>42</td>\n",
       "      <td>RB</td>\n",
       "    </tr>\n",
       "    <tr>\n",
       "      <th>682074</th>\n",
       "      <td>70</td>\n",
       "      <td>200</td>\n",
       "      <td>1</td>\n",
       "      <td>2</td>\n",
       "      <td>47</td>\n",
       "      <td>9</td>\n",
       "      <td>12</td>\n",
       "      <td>62.0</td>\n",
       "      <td>64.0</td>\n",
       "      <td>6</td>\n",
       "      <td>42</td>\n",
       "      <td>RB</td>\n",
       "    </tr>\n",
       "    <tr>\n",
       "      <th>682096</th>\n",
       "      <td>73</td>\n",
       "      <td>238</td>\n",
       "      <td>1</td>\n",
       "      <td>1</td>\n",
       "      <td>13</td>\n",
       "      <td>10</td>\n",
       "      <td>12</td>\n",
       "      <td>62.0</td>\n",
       "      <td>64.0</td>\n",
       "      <td>6</td>\n",
       "      <td>42</td>\n",
       "      <td>RB</td>\n",
       "    </tr>\n",
       "    <tr>\n",
       "      <th>682118</th>\n",
       "      <td>70</td>\n",
       "      <td>200</td>\n",
       "      <td>1</td>\n",
       "      <td>1</td>\n",
       "      <td>37</td>\n",
       "      <td>10</td>\n",
       "      <td>12</td>\n",
       "      <td>62.0</td>\n",
       "      <td>64.0</td>\n",
       "      <td>6</td>\n",
       "      <td>45</td>\n",
       "      <td>RB</td>\n",
       "    </tr>\n",
       "    <tr>\n",
       "      <th>682140</th>\n",
       "      <td>70</td>\n",
       "      <td>200</td>\n",
       "      <td>4</td>\n",
       "      <td>2</td>\n",
       "      <td>38</td>\n",
       "      <td>9</td>\n",
       "      <td>12</td>\n",
       "      <td>62.0</td>\n",
       "      <td>64.0</td>\n",
       "      <td>6</td>\n",
       "      <td>45</td>\n",
       "      <td>RB</td>\n",
       "    </tr>\n",
       "  </tbody>\n",
       "</table>\n",
       "<p>31007 rows × 12 columns</p>\n",
       "</div>"
      ],
      "text/plain": [
       "        PlayerHeight  PlayerWeight  Yards  Down  YardLine  Distance  Week  \\\n",
       "18                70           205      8     3        35         2     1   \n",
       "40                70           205      3     1        43        10     1   \n",
       "62                70           205      5     1        35        10     1   \n",
       "84                71           210      2     2         2         2     1   \n",
       "98                71           216      7     1        25        10     1   \n",
       "...              ...           ...    ...   ...       ...       ...   ...   \n",
       "682052            70           200      1     1        46        10    12   \n",
       "682074            70           200      1     2        47         9    12   \n",
       "682096            73           238      1     1        13        10    12   \n",
       "682118            70           200      1     1        37        10    12   \n",
       "682140            70           200      4     2        38         9    12   \n",
       "\n",
       "        Temperature  Humidity  HomeScoreBeforePlay  VisitorScoreBeforePlay  \\\n",
       "18             63.0      77.0                    0                       0   \n",
       "40             63.0      77.0                    0                       0   \n",
       "62             63.0      77.0                    0                       0   \n",
       "84             63.0      77.0                    0                       0   \n",
       "98             63.0      77.0                    7                       0   \n",
       "...             ...       ...                  ...                     ...   \n",
       "682052         62.0      64.0                    6                      42   \n",
       "682074         62.0      64.0                    6                      42   \n",
       "682096         62.0      64.0                    6                      42   \n",
       "682118         62.0      64.0                    6                      45   \n",
       "682140         62.0      64.0                    6                      45   \n",
       "\n",
       "       Position  \n",
       "18           RB  \n",
       "40           RB  \n",
       "62           RB  \n",
       "84           RB  \n",
       "98           RB  \n",
       "...         ...  \n",
       "682052       RB  \n",
       "682074       RB  \n",
       "682096       RB  \n",
       "682118       RB  \n",
       "682140       RB  \n",
       "\n",
       "[31007 rows x 12 columns]"
      ]
     },
     "execution_count": 15,
     "metadata": {},
     "output_type": "execute_result"
    }
   ],
   "source": [
    "df_important"
   ]
  },
  {
   "cell_type": "code",
   "execution_count": 16,
   "metadata": {},
   "outputs": [
    {
     "data": {
      "image/png": "[encoded data removed]",
      "text/plain": [
       "<Figure size 1152x432 with 2 Axes>"
      ]
     },
     "metadata": {
      "needs_background": "light"
     },
     "output_type": "display_data"
    }
   ],
   "source": [
    "import seaborn as sns\n",
    "import matplotlib.pyplot as plt\n",
    "\n",
    "plt.figure(figsize=(16, 6))\n",
    "heatmap = sns.heatmap(df_important.drop(columns=[\"Position\"]).corr(), vmin=-1, vmax=1, annot=True)\n",
    "heatmap.set_title('Correlation Heatmap', fontdict={'fontsize':12}, pad=12);"
   ]
  },
  {
   "cell_type": "code",
   "execution_count": 17,
   "metadata": {},
   "outputs": [],
   "source": [
    "from sklearn.linear_model import LinearRegression"
   ]
  },
  {
   "cell_type": "code",
   "execution_count": 18,
   "metadata": {},
   "outputs": [
    {
     "name": "stderr",
     "output_type": "stream",
     "text": [
      "/var/folders/vq/432cnvbx5wn1vdmt5b1chfg80000gn/T/ipykernel_25933/3336059027.py:1: SettingWithCopyWarning: \n",
      "A value is trying to be set on a copy of a slice from a DataFrame\n",
      "\n",
      "See the caveats in the documentation: https://pandas.pydata.org/pandas-docs/stable/user_guide/indexing.html#returning-a-view-versus-a-copy\n",
      "  df_important.dropna(inplace=True)\n"
     ]
    }
   ],
   "source": [
    "df_important.dropna(inplace=True)\n"
   ]
  },
  {
   "cell_type": "code",
   "execution_count": 19,
   "metadata": {},
   "outputs": [],
   "source": [
    "y = df_important[\"Yards\"]\n",
    "X = df_important[\"PlayerWeight\"]"
   ]
  },
  {
   "cell_type": "code",
   "execution_count": 20,
   "metadata": {},
   "outputs": [
    {
     "data": {
      "text/html": [
       "<style>#sk-container-id-1 {color: black;background-color: white;}#sk-container-id-1 pre{padding: 0;}#sk-container-id-1 div.sk-toggleable {background-color: white;}#sk-container-id-1 label.sk-toggleable__label {cursor: pointer;display: block;width: 100%;margin-bottom: 0;padding: 0.3em;box-sizing: border-box;text-align: center;}#sk-container-id-1 label.sk-toggleable__label-arrow:before {content: \"▸\";float: left;margin-right: 0.25em;color: #696969;}#sk-container-id-1 label.sk-toggleable__label-arrow:hover:before {color: black;}#sk-container-id-1 div.sk-estimator:hover label.sk-toggleable__label-arrow:before {color: black;}#sk-container-id-1 div.sk-toggleable__content {max-height: 0;max-width: 0;overflow: hidden;text-align: left;background-color: #f0f8ff;}#sk-container-id-1 div.sk-toggleable__content pre {margin: 0.2em;color: black;border-radius: 0.25em;background-color: #f0f8ff;}#sk-container-id-1 input.sk-toggleable__control:checked~div.sk-toggleable__content {max-height: 200px;max-width: 100%;overflow: auto;}#sk-container-id-1 input.sk-toggleable__control:checked~label.sk-toggleable__label-arrow:before {content: \"▾\";}#sk-container-id-1 div.sk-estimator input.sk-toggleable__control:checked~label.sk-toggleable__label {background-color: #d4ebff;}#sk-container-id-1 div.sk-label input.sk-toggleable__control:checked~label.sk-toggleable__label {background-color: #d4ebff;}#sk-container-id-1 input.sk-hidden--visually {border: 0;clip: rect(1px 1px 1px 1px);clip: rect(1px, 1px, 1px, 1px);height: 1px;margin: -1px;overflow: hidden;padding: 0;position: absolute;width: 1px;}#sk-container-id-1 div.sk-estimator {font-family: monospace;background-color: #f0f8ff;border: 1px dotted black;border-radius: 0.25em;box-sizing: border-box;margin-bottom: 0.5em;}#sk-container-id-1 div.sk-estimator:hover {background-color: #d4ebff;}#sk-container-id-1 div.sk-parallel-item::after {content: \"\";width: 100%;border-bottom: 1px solid gray;flex-grow: 1;}#sk-container-id-1 div.sk-label:hover label.sk-toggleable__label {background-color: #d4ebff;}#sk-container-id-1 div.sk-serial::before {content: \"\";position: absolute;border-left: 1px solid gray;box-sizing: border-box;top: 0;bottom: 0;left: 50%;z-index: 0;}#sk-container-id-1 div.sk-serial {display: flex;flex-direction: column;align-items: center;background-color: white;padding-right: 0.2em;padding-left: 0.2em;position: relative;}#sk-container-id-1 div.sk-item {position: relative;z-index: 1;}#sk-container-id-1 div.sk-parallel {display: flex;align-items: stretch;justify-content: center;background-color: white;position: relative;}#sk-container-id-1 div.sk-item::before, #sk-container-id-1 div.sk-parallel-item::before {content: \"\";position: absolute;border-left: 1px solid gray;box-sizing: border-box;top: 0;bottom: 0;left: 50%;z-index: -1;}#sk-container-id-1 div.sk-parallel-item {display: flex;flex-direction: column;z-index: 1;position: relative;background-color: white;}#sk-container-id-1 div.sk-parallel-item:first-child::after {align-self: flex-end;width: 50%;}#sk-container-id-1 div.sk-parallel-item:last-child::after {align-self: flex-start;width: 50%;}#sk-container-id-1 div.sk-parallel-item:only-child::after {width: 0;}#sk-container-id-1 div.sk-dashed-wrapped {border: 1px dashed gray;margin: 0 0.4em 0.5em 0.4em;box-sizing: border-box;padding-bottom: 0.4em;background-color: white;}#sk-container-id-1 div.sk-label label {font-family: monospace;font-weight: bold;display: inline-block;line-height: 1.2em;}#sk-container-id-1 div.sk-label-container {text-align: center;}#sk-container-id-1 div.sk-container {/* jupyter's `normalize.less` sets `[hidden] { display: none; }` but bootstrap.min.css set `[hidden] { display: none !important; }` so we also need the `!important` here to be able to override the default hidden behavior on the sphinx rendered scikit-learn.org. See: https://github.com/scikit-learn/scikit-learn/issues/21755 */display: inline-block !important;position: relative;}#sk-container-id-1 div.sk-text-repr-fallback {display: none;}</style><div id=\"sk-container-id-1\" class=\"sk-top-container\"><div class=\"sk-text-repr-fallback\"><pre>LinearRegression()</pre><b>In a Jupyter environment, please rerun this cell to show the HTML representation or trust the notebook. <br />On GitHub, the HTML representation is unable to render, please try loading this page with nbviewer.org.</b></div><div class=\"sk-container\" hidden><div class=\"sk-item\"><div class=\"sk-estimator sk-toggleable\"><input class=\"sk-toggleable__control sk-hidden--visually\" id=\"sk-estimator-id-1\" type=\"checkbox\" checked><label for=\"sk-estimator-id-1\" class=\"sk-toggleable__label sk-toggleable__label-arrow\">LinearRegression</label><div class=\"sk-toggleable__content\"><pre>LinearRegression()</pre></div></div></div></div></div>"
      ],
      "text/plain": [
       "LinearRegression()"
      ]
     },
     "execution_count": 20,
     "metadata": {},
     "output_type": "execute_result"
    }
   ],
   "source": [
    "model = LinearRegression()\n",
    "model.fit(np.array(X).reshape(-1,1),y)"
   ]
  },
  {
   "cell_type": "code",
   "execution_count": 21,
   "metadata": {},
   "outputs": [
    {
     "data": {
      "text/plain": [
       "array([-0.01306124])"
      ]
     },
     "execution_count": 21,
     "metadata": {},
     "output_type": "execute_result"
    }
   ],
   "source": [
    "model.coef_"
   ]
  },
  {
   "cell_type": "code",
   "execution_count": 22,
   "metadata": {},
   "outputs": [],
   "source": [
    "pred = model.predict(np.array(X).reshape(-1,1))"
   ]
  },
  {
   "cell_type": "code",
   "execution_count": 23,
   "metadata": {},
   "outputs": [
    {
     "data": {
      "text/plain": [
       "<matplotlib.collections.PathCollection at 0x15dc99580>"
      ]
     },
     "execution_count": 23,
     "metadata": {},
     "output_type": "execute_result"
    },
    {
     "data": {
      "image/png": "[encoded data removed]",
      "text/plain": [
       "<Figure size 432x288 with 1 Axes>"
      ]
     },
     "metadata": {
      "needs_background": "light"
     },
     "output_type": "display_data"
    }
   ],
   "source": [
    "plt.scatter(X, y)"
   ]
  },
  {
   "cell_type": "code",
   "execution_count": 24,
   "metadata": {},
   "outputs": [
    {
     "data": {
      "text/plain": [
       "(array([   0.,  401.,  154., 2046., 3408., 4767., 6655., 6035., 5494.,\n",
       "         744., 1194.,   82.,   27.]),\n",
       " array([65., 66., 67., 68., 69., 70., 71., 72., 73., 74., 75., 76., 77.,\n",
       "        78.]),\n",
       " <BarContainer object of 13 artists>)"
      ]
     },
     "execution_count": 24,
     "metadata": {},
     "output_type": "execute_result"
    },
    {
     "data": {
      "image/png": "[encoded data removed]",
      "text/plain": [
       "<Figure size 432x288 with 1 Axes>"
      ]
     },
     "metadata": {
      "needs_background": "light"
     },
     "output_type": "display_data"
    }
   ],
   "source": [
    "plt.hist(df[\"PlayerHeight\"], bins=[65,66,67,68,69,70,71,72,73,74,75,76,77,78])"
   ]
  },
  {
   "cell_type": "code",
   "execution_count": 25,
   "metadata": {},
   "outputs": [
    {
     "data": {
      "text/plain": [
       "(array([1.0000e+00, 3.0000e+01, 1.5700e+02, 2.3000e+02, 2.4760e+03,\n",
       "        4.3790e+03, 8.5700e+03, 1.1374e+04, 2.2060e+03, 1.3940e+03,\n",
       "        1.8500e+02, 2.0000e+00]),\n",
       " array([150., 160., 170., 180., 190., 200., 210., 220., 230., 240., 250.,\n",
       "        275., 300.]),\n",
       " <BarContainer object of 12 artists>)"
      ]
     },
     "execution_count": 25,
     "metadata": {},
     "output_type": "execute_result"
    },
    {
     "data": {
      "image/png": "[encoded data removed]",
      "text/plain": [
       "<Figure size 432x288 with 1 Axes>"
      ]
     },
     "metadata": {
      "needs_background": "light"
     },
     "output_type": "display_data"
    }
   ],
   "source": [
    "plt.hist(df[\"PlayerWeight\"], bins=[150,160,170,180,190,200,210,220,230,240,250,275,300])"
   ]
  },
  {
   "cell_type": "code",
   "execution_count": 26,
   "metadata": {},
   "outputs": [
    {
     "data": {
      "text/plain": [
       "(array([17925., 10393.,  2421.,   268.]),\n",
       " array([1., 2., 3., 4., 5.]),\n",
       " <BarContainer object of 4 artists>)"
      ]
     },
     "execution_count": 26,
     "metadata": {},
     "output_type": "execute_result"
    },
    {
     "data": {
      "image/png": "[encoded data removed]",
      "text/plain": [
       "<Figure size 432x288 with 1 Axes>"
      ]
     },
     "metadata": {
      "needs_background": "light"
     },
     "output_type": "display_data"
    }
   ],
   "source": [
    "plt.hist(df[\"Down\"], bins=[1,2,3,4,5])"
   ]
  },
  {
   "cell_type": "code",
   "execution_count": 27,
   "metadata": {},
   "outputs": [
    {
     "data": {
      "text/plain": [
       "(array([1548., 1681., 2107., 2420., 3041., 5220., 3795., 3674., 3594.,\n",
       "        3927.]),\n",
       " array([ 0.,  5., 10., 15., 20., 25., 30., 35., 40., 45., 50.]),\n",
       " <BarContainer object of 10 artists>)"
      ]
     },
     "execution_count": 27,
     "metadata": {},
     "output_type": "execute_result"
    },
    {
     "data": {
      "image/png": "[encoded data removed]",
      "text/plain": [
       "<Figure size 432x288 with 1 Axes>"
      ]
     },
     "metadata": {
      "needs_background": "light"
     },
     "output_type": "display_data"
    }
   ],
   "source": [
    "plt.hist(df[\"YardLine\"], bins=[0,5,10,15,20,25,30,35,40,45,50])"
   ]
  },
  {
   "cell_type": "code",
   "execution_count": 28,
   "metadata": {},
   "outputs": [
    {
     "data": {
      "text/plain": [
       "(array([    0.,  2561.,  1236.,  1047.,  1101.,  1242.,  1039.,   995.,\n",
       "          949.,   754., 18318.,   704.,   619.,   378.]),\n",
       " array([ 0.,  1.,  2.,  3.,  4.,  5.,  6.,  7.,  8.,  9., 10., 11., 15.,\n",
       "        20., 25.]),\n",
       " <BarContainer object of 14 artists>)"
      ]
     },
     "execution_count": 28,
     "metadata": {},
     "output_type": "execute_result"
    },
    {
     "data": {
      "image/png": "[encoded data removed]",
      "text/plain": [
       "<Figure size 432x288 with 1 Axes>"
      ]
     },
     "metadata": {
      "needs_background": "light"
     },
     "output_type": "display_data"
    }
   ],
   "source": [
    "plt.hist(df[\"Distance\"], bins=[0,1,2,3,4,5,6,7,8,9,10,11,15,20,25])"
   ]
  },
  {
   "cell_type": "code",
   "execution_count": 29,
   "metadata": {},
   "outputs": [
    {
     "data": {
      "text/plain": [
       "40"
      ]
     },
     "execution_count": 29,
     "metadata": {},
     "output_type": "execute_result"
    }
   ],
   "source": [
    "df[\"Distance\"].max()"
   ]
  },
  {
   "cell_type": "code",
   "execution_count": 30,
   "metadata": {},
   "outputs": [
    {
     "data": {
      "text/plain": [
       "(array([2063., 2086., 2134., 2068., 2005., 1965., 1981., 1916., 1765.,\n",
       "        1886., 1806., 2013., 1438., 1486., 1474., 2921.]),\n",
       " array([ 1.,  2.,  3.,  4.,  5.,  6.,  7.,  8.,  9., 10., 11., 12., 13.,\n",
       "        14., 15., 16., 17.]),\n",
       " <BarContainer object of 16 artists>)"
      ]
     },
     "execution_count": 30,
     "metadata": {},
     "output_type": "execute_result"
    },
    {
     "data": {
      "image/png": "[encoded data removed]",
      "text/plain": [
       "<Figure size 432x288 with 1 Axes>"
      ]
     },
     "metadata": {
      "needs_background": "light"
     },
     "output_type": "display_data"
    }
   ],
   "source": [
    "plt.hist(df[\"Week\"], bins=[1,2,3,4,5,6,7,8,9,10,11,12,13,14,15,16,17])"
   ]
  },
  {
   "cell_type": "code",
   "execution_count": 31,
   "metadata": {},
   "outputs": [
    {
     "name": "stdout",
     "output_type": "stream",
     "text": [
      "Size before removing outliers:  (28114, 12)\n",
      "Size after removing outliers:  (26885, 12)\n"
     ]
    }
   ],
   "source": [
    "print(\"Size before removing outliers: \", df_important.shape)\n",
    "df_important = df_important[df_important[\"Position\"].isin([\"HB\", \"RB\", \"FB\"])]\n",
    "df_important = df_important[df_important[\"Yards\"] <= 25]\n",
    "print(\"Size after removing outliers: \", df_important.shape)"
   ]
  },
  {
   "cell_type": "code",
   "execution_count": 32,
   "metadata": {},
   "outputs": [
    {
     "data": {
      "text/plain": [
       "(array([   0.,  355.,  108., 1721., 2916., 4168., 6096., 5217., 4880.,\n",
       "         556.,  868.,    0.,    0.]),\n",
       " array([65., 66., 67., 68., 69., 70., 71., 72., 73., 74., 75., 76., 77.,\n",
       "        78.]),\n",
       " <BarContainer object of 13 artists>)"
      ]
     },
     "execution_count": 32,
     "metadata": {},
     "output_type": "execute_result"
    },
    {
     "data": {
      "image/png": "[encoded data removed]",
      "text/plain": [
       "<Figure size 432x288 with 1 Axes>"
      ]
     },
     "metadata": {
      "needs_background": "light"
     },
     "output_type": "display_data"
    }
   ],
   "source": [
    "plt.hist(df_important[\"PlayerHeight\"], bins=[65,66,67,68,69,70,71,72,73,74,75,76,77,78])"
   ]
  },
  {
   "cell_type": "code",
   "execution_count": 33,
   "metadata": {},
   "outputs": [
    {
     "data": {
      "text/plain": [
       "(array([15510.,  9007.,  2138.,   230.]),\n",
       " array([1., 2., 3., 4., 5.]),\n",
       " <BarContainer object of 4 artists>)"
      ]
     },
     "execution_count": 33,
     "metadata": {},
     "output_type": "execute_result"
    },
    {
     "data": {
      "image/png": "[encoded data removed]",
      "text/plain": [
       "<Figure size 432x288 with 1 Axes>"
      ]
     },
     "metadata": {
      "needs_background": "light"
     },
     "output_type": "display_data"
    }
   ],
   "source": [
    "plt.hist(df_important[\"Down\"], bins=[1,2,3,4,5])"
   ]
  },
  {
   "cell_type": "code",
   "execution_count": 34,
   "metadata": {},
   "outputs": [
    {
     "data": {
      "text/plain": [
       "(array([1385., 1477., 1842., 2093., 2667., 4515., 3267., 3166., 3084.,\n",
       "        3389.]),\n",
       " array([ 0.,  5., 10., 15., 20., 25., 30., 35., 40., 45., 50.]),\n",
       " <BarContainer object of 10 artists>)"
      ]
     },
     "execution_count": 34,
     "metadata": {},
     "output_type": "execute_result"
    },
    {
     "data": {
      "image/png": "[encoded data removed]",
      "text/plain": [
       "<Figure size 432x288 with 1 Axes>"
      ]
     },
     "metadata": {
      "needs_background": "light"
     },
     "output_type": "display_data"
    }
   ],
   "source": [
    "plt.hist(df_important[\"YardLine\"], bins=[0,5,10,15,20,25,30,35,40,45,50])"
   ]
  },
  {
   "cell_type": "code",
   "execution_count": 35,
   "metadata": {},
   "outputs": [
    {
     "data": {
      "text/plain": [
       "(array([    0.,  2259.,  1059.,   939.,   954.,  1080.,   899.,   863.,\n",
       "          804.,   654., 15844.,   600.,   534.,   338.]),\n",
       " array([ 0.,  1.,  2.,  3.,  4.,  5.,  6.,  7.,  8.,  9., 10., 11., 15.,\n",
       "        20., 25.]),\n",
       " <BarContainer object of 14 artists>)"
      ]
     },
     "execution_count": 35,
     "metadata": {},
     "output_type": "execute_result"
    },
    {
     "data": {
      "image/png": "[encoded data removed]",
      "text/plain": [
       "<Figure size 432x288 with 1 Axes>"
      ]
     },
     "metadata": {
      "needs_background": "light"
     },
     "output_type": "display_data"
    }
   ],
   "source": [
    "plt.hist(df_important[\"Distance\"], bins=[0,1,2,3,4,5,6,7,8,9,10,11,15,20,25])"
   ]
  },
  {
   "cell_type": "code",
   "execution_count": 36,
   "metadata": {},
   "outputs": [
    {
     "data": {
      "text/plain": [
       "(array([1718., 1884., 1719., 1559., 1825., 1523., 1803., 1689., 1589.,\n",
       "        1758., 1648., 1708., 1292., 1302., 1271., 2597.]),\n",
       " array([ 1.,  2.,  3.,  4.,  5.,  6.,  7.,  8.,  9., 10., 11., 12., 13.,\n",
       "        14., 15., 16., 17.]),\n",
       " <BarContainer object of 16 artists>)"
      ]
     },
     "execution_count": 36,
     "metadata": {},
     "output_type": "execute_result"
    },
    {
     "data": {
      "image/png": "[encoded data removed]",
      "text/plain": [
       "<Figure size 432x288 with 1 Axes>"
      ]
     },
     "metadata": {
      "needs_background": "light"
     },
     "output_type": "display_data"
    }
   ],
   "source": [
    "plt.hist(df_important[\"Week\"], bins=[1,2,3,4,5,6,7,8,9,10,11,12,13,14,15,16,17])"
   ]
  },
  {
   "cell_type": "code",
   "execution_count": 37,
   "metadata": {},
   "outputs": [],
   "source": [
    "df_important.reset_index(inplace=True)\n",
    "df_important.to_csv(\"first_lr.csv\")"
   ]
  },
  {
   "cell_type": "markdown",
   "metadata": {},
   "source": [
    "Playing with priors"
   ]
  },
  {
   "cell_type": "code",
   "execution_count": 57,
   "metadata": {},
   "outputs": [
    {
     "data": {
      "text/plain": [
       "[<matplotlib.lines.Line2D at 0x16397ddf0>]"
      ]
     },
     "execution_count": 57,
     "metadata": {},
     "output_type": "execute_result"
    },
    {
     "data": {
      "image/png": "[encoded data removed]",
      "text/plain": [
       "<Figure size 432x288 with 1 Axes>"
      ]
     },
     "metadata": {
      "needs_background": "light"
     },
     "output_type": "display_data"
    }
   ],
   "source": [
    "from scipy.stats import beta, norm\n",
    "import matplotlib.pyplot as plt\n",
    "import statistics\n",
    "\n",
    "plt.hist(df_important[\"PlayerWeight\"], bins=[150,160,170,180,190,200,210,220,230,240,250,275,300], density=True)\n",
    "\n",
    "xmin, xmax = plt.xlim()\n",
    "x = np.linspace(xmin, xmax, 100)\n",
    "p = norm.pdf(x, 220, 15)\n",
    "  \n",
    "plt.plot(x, p, 'k', linewidth=2)"
   ]
  },
  {
   "cell_type": "code",
   "execution_count": 87,
   "metadata": {},
   "outputs": [
    {
     "data": {
      "text/plain": [
       "[<matplotlib.lines.Line2D at 0x16486da60>]"
      ]
     },
     "execution_count": 87,
     "metadata": {},
     "output_type": "execute_result"
    },
    {
     "data": {
      "image/png": "[encoded data removed]",
      "text/plain": [
       "<Figure size 432x288 with 1 Axes>"
      ]
     },
     "metadata": {
      "needs_background": "light"
     },
     "output_type": "display_data"
    }
   ],
   "source": [
    "plt.hist(df_important[\"Down\"], bins=[1,2,3,4,5], density=True)\n",
    "xmin, xmax = plt.xlim()\n",
    "x = np.linspace(xmin, xmax, 100)\n",
    "\n",
    "p = norm.pdf(x, 2, .5)\n",
    "  \n",
    "plt.plot(x, p, 'k', linewidth=2)"
   ]
  },
  {
   "cell_type": "code",
   "execution_count": 108,
   "metadata": {},
   "outputs": [
    {
     "data": {
      "text/plain": [
       "[<matplotlib.lines.Line2D at 0x1653ca1c0>]"
      ]
     },
     "execution_count": 108,
     "metadata": {},
     "output_type": "execute_result"
    },
    {
     "data": {
      "image/png": "[encoded data removed]",
      "text/plain": [
       "<Figure size 432x288 with 1 Axes>"
      ]
     },
     "metadata": {
      "needs_background": "light"
     },
     "output_type": "display_data"
    }
   ],
   "source": [
    "plt.hist(df_important[\"YardLine\"], bins=[0,5,10,15,20,25,30,35,40,45,50], density=True)\n",
    "xmin, xmax = plt.xlim()\n",
    "\n",
    "x = np.linspace(xmin, xmax, 100)\n",
    "\n",
    "p = norm.pdf(x, 35, 30)\n",
    "  \n",
    "plt.plot(x, p, 'k', linewidth=2)"
   ]
  },
  {
   "cell_type": "code",
   "execution_count": 123,
   "metadata": {},
   "outputs": [
    {
     "data": {
      "text/plain": [
       "[<matplotlib.lines.Line2D at 0x165b87f70>]"
      ]
     },
     "execution_count": 123,
     "metadata": {},
     "output_type": "execute_result"
    },
    {
     "data": {
      "image/png": "[encoded data removed]",
      "text/plain": [
       "<Figure size 432x288 with 1 Axes>"
      ]
     },
     "metadata": {
      "needs_background": "light"
     },
     "output_type": "display_data"
    }
   ],
   "source": [
    "plt.hist(df_important[\"Distance\"], bins=[0,1,2,3,4,5,6,7,8,9,10,11,15,20,25], density=True)\n",
    "xmin, xmax = plt.xlim()\n",
    "\n",
    "x = np.linspace(xmin, xmax, 100)\n",
    "\n",
    "p = norm.pdf(x, 10, 1)\n",
    "  \n",
    "plt.plot(x, p, 'k', linewidth=2)"
   ]
  },
  {
   "cell_type": "code",
   "execution_count": 128,
   "metadata": {},
   "outputs": [
    {
     "data": {
      "text/plain": [
       "[<matplotlib.lines.Line2D at 0x165d21f10>]"
      ]
     },
     "execution_count": 128,
     "metadata": {},
     "output_type": "execute_result"
    },
    {
     "data": {
      "image/png": "[encoded data removed]",
      "text/plain": [
       "<Figure size 432x288 with 1 Axes>"
      ]
     },
     "metadata": {
      "needs_background": "light"
     },
     "output_type": "display_data"
    }
   ],
   "source": [
    "plt.hist(df_important[\"Temperature\"], bins=[0,10,20,30,40,50,60,70,80,90,100], density=True)\n",
    "xmin, xmax = plt.xlim()\n",
    "\n",
    "x = np.linspace(xmin, xmax, 100)\n",
    "\n",
    "p = norm.pdf(x, 70, 25)\n",
    "  \n",
    "plt.plot(x, p, 'k', linewidth=2)"
   ]
  },
  {
   "cell_type": "code",
   "execution_count": null,
   "metadata": {},
   "outputs": [],
   "source": []
  }
 ],
 "metadata": {
  "kernelspec": {
   "display_name": "Python 3 (ipykernel)",
   "language": "python",
   "name": "python3"
  },
  "language_info": {
   "codemirror_mode": {
    "name": "ipython",
    "version": 3
   },
   "file_extension": ".py",
   "mimetype": "text/x-python",
   "name": "python",
   "nbconvert_exporter": "python",
   "pygments_lexer": "ipython3",
   "version": "3.9.15"
  }
 },
 "nbformat": 4,
 "nbformat_minor": 4
}
